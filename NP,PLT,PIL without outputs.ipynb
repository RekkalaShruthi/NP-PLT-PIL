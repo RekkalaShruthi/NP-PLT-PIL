{
 "cells": [
  {
   "cell_type": "markdown",
   "id": "0056a145-d866-4bbf-a147-b75ac5693c02",
   "metadata": {},
   "source": [
    "pil== python imaging library"
   ]
  },
  {
   "cell_type": "code",
   "execution_count": null,
   "id": "6b1467ff-c652-4243-92ce-da9a1257ad5d",
   "metadata": {},
   "outputs": [],
   "source": [
    "import numpy as np"
   ]
  },
  {
   "cell_type": "code",
   "execution_count": null,
   "id": "cb0afe34-faba-4a7c-8c9e-618ea313a662",
   "metadata": {},
   "outputs": [],
   "source": [
    "ones_arr=np.ones((5,5))"
   ]
  },
  {
   "cell_type": "code",
   "execution_count": null,
   "id": "5961e86d-d765-4be0-b106-8485d6b4f584",
   "metadata": {},
   "outputs": [],
   "source": [
    "ones_arr"
   ]
  },
  {
   "cell_type": "code",
   "execution_count": null,
   "id": "acae9cb0-d21e-4d97-b37d-6557468e8553",
   "metadata": {},
   "outputs": [],
   "source": [
    "ones_arr=np.ones((5,5),dtype=int)\n",
    "ones_arr"
   ]
  },
  {
   "cell_type": "code",
   "execution_count": null,
   "id": "74742886-b680-49d4-83a9-7834063fc1a6",
   "metadata": {},
   "outputs": [],
   "source": [
    "zeros_arr=np.zeros((3,3),dtype=int)\n",
    "zeros_arr"
   ]
  },
  {
   "cell_type": "code",
   "execution_count": null,
   "id": "d8ee59ca-cd89-41ce-a67a-0832900a2a60",
   "metadata": {},
   "outputs": [],
   "source": [
    "ones_arr"
   ]
  },
  {
   "cell_type": "code",
   "execution_count": null,
   "id": "827c1e9e-0a91-4f52-85b4-014c69540bae",
   "metadata": {},
   "outputs": [],
   "source": [
    "ones_arr*255"
   ]
  },
  {
   "cell_type": "code",
   "execution_count": null,
   "id": "e4fed4ac-a5fd-49e4-8893-3753fa7e64e7",
   "metadata": {},
   "outputs": [],
   "source": [
    "zeros_arr"
   ]
  },
  {
   "cell_type": "code",
   "execution_count": null,
   "id": "1bb63c3d-f591-4625-9886-999837562ef8",
   "metadata": {},
   "outputs": [],
   "source": [
    "ones_arr"
   ]
  },
  {
   "cell_type": "code",
   "execution_count": null,
   "id": "46898f6b-4b2b-4929-84f0-6a1f8d694243",
   "metadata": {},
   "outputs": [],
   "source": [
    "import matplotlib.pyplot as plt # for visualization"
   ]
  },
  {
   "cell_type": "code",
   "execution_count": null,
   "id": "0ec64358-42aa-442f-9424-c31e788fa936",
   "metadata": {},
   "outputs": [],
   "source": [
    "%matplotlib inline"
   ]
  },
  {
   "cell_type": "code",
   "execution_count": null,
   "id": "c5077adc-5616-40fa-84f8-34cbdd0320b8",
   "metadata": {},
   "outputs": [],
   "source": [
    "from PIL import Image # python imaging library"
   ]
  },
  {
   "cell_type": "code",
   "execution_count": null,
   "id": "fdfc2fbe-3861-471a-8032-aa0b68986197",
   "metadata": {},
   "outputs": [],
   "source": [
    "horse_img=Image.open(r\"C:\\Users\\rekka\\Downloads\\animal-domestic-domestic-animal-1996338.jpg\") # r=>raw string"
   ]
  },
  {
   "cell_type": "code",
   "execution_count": null,
   "id": "07dd0dbb-64ba-47a7-a1eb-a18344eba766",
   "metadata": {},
   "outputs": [],
   "source": [
    "horse_img"
   ]
  },
  {
   "cell_type": "code",
   "execution_count": null,
   "id": "928bfcba-0107-49af-9e99-3476e122716d",
   "metadata": {},
   "outputs": [],
   "source": [
    "type(horse_img)"
   ]
  },
  {
   "cell_type": "code",
   "execution_count": null,
   "id": "63496f62-fb34-4245-948b-371a1b766193",
   "metadata": {},
   "outputs": [],
   "source": [
    "horse_arr=np.asarray(horse_img)\n",
    "horse_arr"
   ]
  },
  {
   "cell_type": "code",
   "execution_count": null,
   "id": "d4502f67-b046-4f88-901c-6c46a0091da7",
   "metadata": {},
   "outputs": [],
   "source": [
    "type(horse_arr)"
   ]
  },
  {
   "cell_type": "code",
   "execution_count": null,
   "id": "d869c111-dcbd-4e17-998b-64c1511daaf5",
   "metadata": {},
   "outputs": [],
   "source": [
    "horse_arr.shape"
   ]
  },
  {
   "cell_type": "code",
   "execution_count": null,
   "id": "982b7c12-d643-4d7c-8434-e26462596486",
   "metadata": {},
   "outputs": [],
   "source": [
    "plt.imshow(horse_arr); # shows the image corresponding to the array"
   ]
  },
  {
   "cell_type": "code",
   "execution_count": null,
   "id": "b64418de-18a6-437b-be28-ad07e78600db",
   "metadata": {},
   "outputs": [],
   "source": [
    "horse_red=horse_arr.copy()"
   ]
  },
  {
   "cell_type": "code",
   "execution_count": null,
   "id": "db76c998-5bc0-4b3d-9875-f864db2d4c85",
   "metadata": {},
   "outputs": [],
   "source": [
    "horse_red"
   ]
  },
  {
   "cell_type": "code",
   "execution_count": null,
   "id": "756b4fe6-7a4b-410a-8470-a40424c44e53",
   "metadata": {},
   "outputs": [],
   "source": [
    "horse_red==horse_arr"
   ]
  },
  {
   "cell_type": "code",
   "execution_count": null,
   "id": "5adb5935-7f50-4b7c-b361-cb82122df225",
   "metadata": {},
   "outputs": [],
   "source": [
    "plt.imshow(horse_red)"
   ]
  },
  {
   "cell_type": "code",
   "execution_count": null,
   "id": "c4e8c136-772f-4464-9921-4fe43ec954de",
   "metadata": {},
   "outputs": [],
   "source": [
    "horse_red.shape"
   ]
  },
  {
   "cell_type": "code",
   "execution_count": null,
   "id": "6ee3ad4a-09e9-4e38-b247-c15d233e0951",
   "metadata": {},
   "outputs": [],
   "source": [
    "# link for color map refernces\n",
    "# https://matplotlib.org/stable/users/explain/colors/colormaps.html"
   ]
  },
  {
   "cell_type": "code",
   "execution_count": null,
   "id": "ace52a9f-8a0e-4ee4-a767-b26d11edc065",
   "metadata": {},
   "outputs": [],
   "source": [
    "# R G B\n",
    "plt.imshow(horse_red[:,:,0])"
   ]
  },
  {
   "cell_type": "code",
   "execution_count": null,
   "id": "b2dbd013-9e3a-4b8d-a517-2e3401d48d86",
   "metadata": {},
   "outputs": [],
   "source": [
    "horse_red[:,:,0]"
   ]
  },
  {
   "cell_type": "code",
   "execution_count": null,
   "id": "e81445a7-5685-4c38-abda-ad911cdb424c",
   "metadata": {},
   "outputs": [],
   "source": [
    "plt.imshow(horse_red[:,:,0],cmap='gray') # image chages to black and white"
   ]
  },
  {
   "cell_type": "code",
   "execution_count": null,
   "id": "f41e57e1-ab03-4fcc-a9c5-cdfa2b877a5e",
   "metadata": {},
   "outputs": [],
   "source": [
    "plt.imshow(horse_red[:,:,0],cmap='Blues')"
   ]
  },
  {
   "cell_type": "code",
   "execution_count": null,
   "id": "06c7d27f-0d33-4d9b-91d5-d5743e6e909d",
   "metadata": {},
   "outputs": [],
   "source": [
    "plt.imshow(horse_red[:,:,0],cmap='Reds')"
   ]
  },
  {
   "cell_type": "code",
   "execution_count": null,
   "id": "d96b5122-e2e5-4035-afe6-0d371bb0761f",
   "metadata": {},
   "outputs": [],
   "source": [
    "plt.imshow(horse_red[:,:,0],cmap='PuBu')"
   ]
  },
  {
   "cell_type": "code",
   "execution_count": null,
   "id": "67511999-9e11-415d-b1ab-113ab165f64b",
   "metadata": {},
   "outputs": [],
   "source": [
    "plt.imshow(horse_red[:,:,0],cmap='Grays')"
   ]
  },
  {
   "cell_type": "code",
   "execution_count": null,
   "id": "586ea9ae-10cf-4c5c-8fc1-065340ad18cb",
   "metadata": {},
   "outputs": [],
   "source": [
    "plt.imshow(horse_red[:,:,1],cmap='grey')"
   ]
  },
  {
   "cell_type": "code",
   "execution_count": null,
   "id": "6a21833a-94ab-4225-a161-cff6e51f54b1",
   "metadata": {},
   "outputs": [],
   "source": [
    "horse_red[:,:,0]"
   ]
  },
  {
   "cell_type": "code",
   "execution_count": null,
   "id": "cef39a59-210a-49bd-8a02-b593f82fcdc2",
   "metadata": {},
   "outputs": [],
   "source": [
    "horse_red[:,:,1]"
   ]
  },
  {
   "cell_type": "code",
   "execution_count": null,
   "id": "419be098-df12-4919-b193-22abd1903607",
   "metadata": {},
   "outputs": [],
   "source": [
    "horse_red[:,:,2]"
   ]
  },
  {
   "cell_type": "code",
   "execution_count": null,
   "id": "12789962-42b7-4012-876c-d8972ac45d61",
   "metadata": {},
   "outputs": [],
   "source": [
    "horse_red[:,:,1]=0"
   ]
  },
  {
   "cell_type": "code",
   "execution_count": null,
   "id": "af16528d-446f-488d-98cf-7993eada494a",
   "metadata": {},
   "outputs": [],
   "source": [
    "horse_red"
   ]
  },
  {
   "cell_type": "code",
   "execution_count": null,
   "id": "f20c852c-6ed6-4ff3-a6ed-dc3261ad10ab",
   "metadata": {},
   "outputs": [],
   "source": [
    "plt.imshow(horse_red)"
   ]
  },
  {
   "cell_type": "code",
   "execution_count": null,
   "id": "d1c417a9-4906-46cd-b14b-b5aaca0643ab",
   "metadata": {},
   "outputs": [],
   "source": [
    "horse_red[:,:,2]=0"
   ]
  },
  {
   "cell_type": "code",
   "execution_count": null,
   "id": "f3961d96-4b91-4d0d-ac1d-8558cbd52e15",
   "metadata": {},
   "outputs": [],
   "source": [
    "plt.imshow(horse_red)"
   ]
  },
  {
   "cell_type": "code",
   "execution_count": null,
   "id": "f61a0d60-c09a-490f-8131-f0aa39aa4b88",
   "metadata": {},
   "outputs": [],
   "source": [
    "horse_arr"
   ]
  },
  {
   "cell_type": "code",
   "execution_count": null,
   "id": "b82a3a00-61dd-4495-b60b-64a94e978b85",
   "metadata": {},
   "outputs": [],
   "source": [
    "horse_red"
   ]
  },
  {
   "cell_type": "code",
   "execution_count": null,
   "id": "e61e4bd7-8673-4823-9e6d-59f12b14e322",
   "metadata": {
    "scrolled": true
   },
   "outputs": [],
   "source": [
    "horse_img"
   ]
  },
  {
   "cell_type": "code",
   "execution_count": null,
   "id": "d195f42a-a572-4c03-b409-cc792a4cffe1",
   "metadata": {},
   "outputs": [],
   "source": [
    "arr1=np.asarray(horse_img)"
   ]
  },
  {
   "cell_type": "code",
   "execution_count": null,
   "id": "70eaf921-fdd6-4e57-b860-4a3cca32416e",
   "metadata": {},
   "outputs": [],
   "source": [
    "plt.imshow(arr1)"
   ]
  },
  {
   "cell_type": "code",
   "execution_count": null,
   "id": "bb636bf6-55be-4bbe-81e0-3606cdf96673",
   "metadata": {},
   "outputs": [],
   "source": [
    "horse_img1=arr1.copy()"
   ]
  },
  {
   "cell_type": "code",
   "execution_count": null,
   "id": "71c2c203-ef88-4a11-86a2-0533eba0e92e",
   "metadata": {},
   "outputs": [],
   "source": [
    "horse_img1[:,:,0]=0"
   ]
  },
  {
   "cell_type": "code",
   "execution_count": null,
   "id": "41422f57-c196-41b8-b3a9-4e71c4ffb06f",
   "metadata": {},
   "outputs": [],
   "source": [
    "plt.imshow(horse_img1)"
   ]
  },
  {
   "cell_type": "code",
   "execution_count": null,
   "id": "602d6057-a969-44d4-a93b-9633134c6e84",
   "metadata": {},
   "outputs": [],
   "source": [
    "horse_img1[:,:,1]=0\n",
    "plt.imshow(horse_img1)"
   ]
  }
 ],
 "metadata": {
  "kernelspec": {
   "display_name": "Python 3 (ipykernel)",
   "language": "python",
   "name": "python3"
  },
  "language_info": {
   "codemirror_mode": {
    "name": "ipython",
    "version": 3
   },
   "file_extension": ".py",
   "mimetype": "text/x-python",
   "name": "python",
   "nbconvert_exporter": "python",
   "pygments_lexer": "ipython3",
   "version": "3.12.4"
  }
 },
 "nbformat": 4,
 "nbformat_minor": 5
}
